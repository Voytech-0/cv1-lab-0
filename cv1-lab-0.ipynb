{
 "cells": [
  {
   "cell_type": "markdown",
   "metadata": {},
   "source": [
    "<center> <img src=\"https://miro.medium.com/v2/resize:fit:828/format:webp/1*c_4jmDxc_yAM6QTkGsG3Zw.png\" width=50% > </center>\n",
    "\n",
    "<br><br>\n",
    "\n",
    "<center> \n",
    "    <font size=\"6\">Lab 0: Introduction to Numpy & OpenCV</font> \n",
    "</center>\n",
    "<center> \n",
    "    <font size=\"4\">Computer Vision 1 - University of Amsterdam</font> \n",
    "</center>\n",
    "\n",
    "<br><br>\n",
    "\n",
    "***\n",
    "\n",
    "<br><br>\n",
    "\n",
    "<center>\n",
    "\n",
    "Student ID:  \\\n",
    "Student Name: \n",
    "\n",
    "</center>"
   ]
  },
  {
   "cell_type": "markdown",
   "metadata": {},
   "source": [
    "### **Import Libraries**"
   ]
  },
  {
   "cell_type": "code",
   "execution_count": 1,
   "metadata": {},
   "outputs": [],
   "source": [
    "import sys\n",
    "\n",
    "if sys.version_info[0] < 3:\n",
    "    raise Exception(\"Python 3 or a more recent version is required.\")"
   ]
  },
  {
   "cell_type": "code",
   "execution_count": 4,
   "metadata": {},
   "outputs": [],
   "source": [
    "import numpy as np\n",
    "import cv2\n",
    "import random\n",
    "import matplotlib\n",
    "import matplotlib.pyplot as plt\n",
    "\n",
    "from PIL import Image\n",
    "from IPython.display import display"
   ]
  },
  {
   "cell_type": "code",
   "execution_count": 5,
   "metadata": {},
   "outputs": [],
   "source": [
    "# Make sure you're using the provided environment!\n",
    "assert cv2.__version__ == \"4.10.0\", \"You're not using the provided Python environment!\"\n",
    "assert np.__version__ == \"1.26.4\", \"You're not using the provided Python environment!\"\n",
    "assert matplotlib.__version__ == \"3.9.2\", \"You're not using the provided Python environment!\"\n",
    "# Proceed to the next cell if you don't get any error."
   ]
  },
  {
   "cell_type": "markdown",
   "metadata": {},
   "source": [
    "### **Instructions**\n",
    "\n",
    "Your code and discussion must be handed in this jupyter notebook, since this is a practise lab, **you don't need to submit anything**.\n",
    "\n",
    "For full credit, make sure your notebook follows these guidelines:\n",
    "- It is mandatory to **use the Python environment provided** with the assignment; the environment specifies the package versions that have to be used to prevent the use of particular functions. Using different packages versions may lead to grade deduction. In the Python cell above you can check whether your environment is set up correctly.\n",
    "- To install the environment with the right package versions, use the following command in your terminal: ```conda env create --file=CV1_environment.yaml```, then activate the environment using the command ```conda activate cv1```.\n",
    "- Do not use additional packages or materials that have not been provided or explicitly mentioned.\n",
    "- Please express your thoughts **concisely**. The number of words does not necessarily correlate with how well you understand the concepts.\n",
    "- Answer all given questions and sub-questions.\n",
    "- Try to understand the problem as much as you can. When answering a question, give evidences (qualitative and/or quantitative results, references to papers, figures etc.) to support your arguments. Note that not everything might be explicitly asked for and you are expected to think about what might strengthen you arguments and make the notebook self-contained and complete.\n",
    "- Tables and figures must be accompanied by a **brief** description. Do not forget to add a number, a title, and if applicable name and unit of variables in a table, name and unit of axes and legends in a figure.\n",
    "\n",
    "__Note:__ A more complete overview of the lab requirements can be found in the Course Manual on Canvas\n",
    "\n",
    "Plagiarism note: Keep in mind that plagiarism (submitted materials which are not your work) is a serious crime and any misconduct shall be punished with the university regulations. This includes the use of generative tools such as ChatGPT."
   ]
  },
  {
   "cell_type": "markdown",
   "metadata": {},
   "source": [
    "### **Overview**\n",
    "\n",
    "- [Section 1: Introduction (0 points)](#section-1)\n",
    "  - [Section 1.1: Jupyter Notebook cells](#section-1.1)\n",
    "  - [Section 1.2: Markdown](#section-1.2)\n",
    "  - [Section 1.3: A quick reminder](#section-1.3)\n",
    "- [Section 2: Numpy (0 points)](#section-2)\n",
    "  - [Section 2.1: Array Calculations and Indexing](#section-2.1)\n",
    "    - [Question 1 (0 points)](#question-1)\n",
    "    - [Question 2 (0 points)](#question-2)\n",
    "    - [Question 3 (0 points)](#question-3)\n",
    "    - [Question 4 (0 points)](#question-4)\n",
    "    - [Question 5 (0 points)](#question-5)\n",
    "    - [Question 6 (0 points)](#question-6)\n",
    "    - [Question 7 (0 points)](#question-7)\n",
    "    - [Question 8 (0 points)](#question-8)\n",
    "    - [Question 9 (0 points)](#question-9)\n",
    "    - [Question 10 (0 points)](#question-10)\n",
    "  - [Section 2.2: Views on Arrays](#section-2.2)\n",
    "  - [Section 2.3: Tricks with Arrays](#section-2.3)\n",
    "    - [Question 11 (0 points)](#question-11)\n",
    "    - [Question 12 (0 points)](#question-12)\n",
    "    - [Question 13 (0 points)](#question-13)\n",
    "  - [Section 2.4: Linear Algebra](#section-2.4)\n",
    "- [Section 3: Matplotlib (0 points)](#section-3)\n",
    "  - [Question 14 (0 points)](#question-14)\n",
    "  - [Question 15 (0 points)](#question-15)\n",
    "- [Section 4: OpenCV (0 points)](#section-4)\n",
    "  - [Section 4.1: Image Processing using Matplotlib](#section-4.1)\n",
    "  - [Section 4.2: Image Processing using OpenCV](#section-4.2)\n",
    "  - [Section 4.3: Image Processing using Python Imaging Library PIL (Pillow)](#section-4.3)\n",
    "    - [Question 16 (0 points)](#question-16)\n",
    "    - [Question 17 (0 points)](#question-17)\n",
    "    - [Question 18 (0 points)](#question-18)"
   ]
  },
  {
   "cell_type": "markdown",
   "metadata": {},
   "source": [
    "<a id=\"section-1\"></a>\n",
    "### **Section 1: Introduction**\n",
    "\n",
    "This assignment we won't do any actual machine learning yet, but we'll setup and get familiar with the tools we will be using for the rest of this course.\n",
    "\n",
    "In machine learning and computer vision we are dealing with massive amounts of data. Data most often organised in tables. When all data elements in a table are of the same datatype (like an integer or a floating point number) the table can be represented with a homogeneous array.\n",
    "\n",
    "Languages that are optimally suited for programming with data are therefore equipped with array data types that are integral part of the language. Although arrays look a lot like python lists they are not as shown in the following code."
   ]
  },
  {
   "cell_type": "markdown",
   "metadata": {},
   "source": [
    "<a id=\"section-1.1\"></a>\n",
    "#### **Section 1.1: Jupyter Notebook cells**\n",
    "\n",
    "A notebook consists of a sequence of cells. A cell is a multi-line text input field, and its contents can be executed by typing `Shift-Enter`, or by clicking the `Run` button in the toolbar. What exactly this does depends on the type of cell. There are four types of cells: *code cells*, *markdown cells*, *raw cells* and *heading cells*. We will only focus on the first 2; code and markdown. Every cell starts off being a code cell, but its type can be changed by using a dropdown on the toolbar (which will be `Code`, initially).\n",
    "\n",
    "In a code cell you can write *Python* code. When you run that cell (click on it and press `Shift-Enter`) the code in the cell will run, and the output of the cell will be displayed beneath the cell. Lets try out a very simple code cell below"
   ]
  },
  {
   "cell_type": "code",
   "execution_count": null,
   "metadata": {},
   "outputs": [],
   "source": [
    "x = 2000\n",
    "x = x + 24\n",
    "print(x)"
   ]
  },
  {
   "cell_type": "markdown",
   "metadata": {},
   "source": [
    "This produces the output you might expect, the exact the same result as executing that bit of *Python* code in a terminal. You can modify the contents of the code cell and run it again with `Shift-Enter` to see how the output changes. Global variables are shared between cells. This means we can still use variables or functions from the first cell in a second cell. Notebooks are expected to be run top to bottom, starting with the first cell and ending with the last.\n",
    "\n",
    "**Failing to run some cells or running cells out of order is likely to result in errors.**\n",
    "\n",
    "For example, if we were to run the second cell before the first has been run the first, we would get an error saying:\n",
    "\n",
    "`NameError: name 'x' is not defined`"
   ]
  },
  {
   "cell_type": "code",
   "execution_count": null,
   "metadata": {},
   "outputs": [],
   "source": [
    "y = 2 * x\n",
    "print(y)"
   ]
  },
  {
   "cell_type": "markdown",
   "metadata": {},
   "source": [
    "<a id=\"section-1.2\"></a>\n",
    "#### **Section 1.2: Markdown**\n",
    "\n",
    "*Markdown* is a simple way to format text using some extra symbols like asterisks (`*`) and underscores (`_`). You can do a simple [10 minute tutorial](http://www.markdowntutorial.com) or reference the [CheatSheet](http://commonmark.org/help/) for the available commands.\n",
    "\n",
    "If you set a notebook cell as a *Markdown* cell, you can write *Markdown* directly in the cell. When you run this cell, the markdown will be formatted to the *rich text*. if you **double-click** the *rich text*, you can go back to editing the markdown code. All these assignment texts are *Markdown* cells and it will be convenient to write longer answers in, instead of using code comments."
   ]
  },
  {
   "cell_type": "markdown",
   "metadata": {},
   "source": [
    "<a id=\"section-1.3\"></a>\n",
    "#### **Section 1.3: A quick reminder**\n",
    "\n",
    "Before you turn a problem in, make sure everything runs as expected.\n",
    "\n",
    "First, **restart the kernel** (in the menubar, select Kernel &rarr; Restart)\n",
    "\n",
    "Then **run all cells** (in the menubar, select Cell &rarr; Run All)."
   ]
  },
  {
   "cell_type": "markdown",
   "metadata": {},
   "source": [
    "<a id=\"section-2\"></a>\n",
    "### **Section 2: Numpy**\n",
    "\n",
    "*Matplotlib* is a plotting library for *Python*. We can import the module with:\n",
    "\n",
    "`import matplotlib.pyplot as plt`\n",
    "\n",
    "Here we rename the module to `plt` to make it a little less typing when we need to actually use it.\n",
    "\n",
    "*NumPy* is a Python package whish is great for working with N-dimensional arrays and its operations; things like matrix multiplication and matrix inversion already come built in. \n",
    "\n",
    "Instead of explicitely import these packages, one can also use the magic command '%pylab inline' that import amongst others matplotlib and numpy. This imports all required modules, and your plots will appear inline. \n",
    "\n",
    "See for a discussion on magic commands (but you may skip it). \n",
    "https://ipython.org/ipython-doc/dev/interactive/magics.html\n",
    "\n",
    "Now we can start working with numpy arrays:"
   ]
  },
  {
   "cell_type": "code",
   "execution_count": null,
   "metadata": {},
   "outputs": [],
   "source": [
    "a = np.array([1, 3, 5])\n",
    "print(type(a))"
   ]
  },
  {
   "cell_type": "code",
   "execution_count": null,
   "metadata": {},
   "outputs": [],
   "source": [
    "print(a)"
   ]
  },
  {
   "cell_type": "code",
   "execution_count": null,
   "metadata": {},
   "outputs": [],
   "source": [
    "b = [2, 4, 6]\n",
    "print(type(b))"
   ]
  },
  {
   "cell_type": "code",
   "execution_count": null,
   "metadata": {},
   "outputs": [],
   "source": [
    "print(b)"
   ]
  },
  {
   "cell_type": "code",
   "execution_count": null,
   "metadata": {},
   "outputs": [],
   "source": [
    "print(a + a)"
   ]
  },
  {
   "cell_type": "code",
   "execution_count": null,
   "metadata": {},
   "outputs": [],
   "source": [
    "print(b + b)"
   ]
  },
  {
   "cell_type": "code",
   "execution_count": null,
   "metadata": {},
   "outputs": [],
   "source": [
    "print(a + b)"
   ]
  },
  {
   "cell_type": "markdown",
   "metadata": {},
   "source": [
    "Both lists and arrays are so called iterables in Python, therefore constructions like the following are possible:"
   ]
  },
  {
   "cell_type": "code",
   "execution_count": null,
   "metadata": {},
   "outputs": [],
   "source": [
    "for element in a:\n",
    "    print(element)"
   ]
  },
  {
   "cell_type": "code",
   "execution_count": null,
   "metadata": {},
   "outputs": [],
   "source": [
    "for element in b:\n",
    "    print(element)"
   ]
  },
  {
   "cell_type": "markdown",
   "metadata": {},
   "source": [
    "The nice thing about Numpy arrays is that it allows you to manipulate the data in arrays without writing explicit loops. For instance look at the addition of all elements in an array:"
   ]
  },
  {
   "cell_type": "code",
   "execution_count": null,
   "metadata": {},
   "outputs": [],
   "source": [
    "c = np.random.rand(65536)\n",
    "print(type(c))"
   ]
  },
  {
   "cell_type": "code",
   "execution_count": null,
   "metadata": {},
   "outputs": [],
   "source": [
    "print(c)"
   ]
  },
  {
   "cell_type": "code",
   "execution_count": null,
   "metadata": {},
   "outputs": [],
   "source": [
    "print(c.shape)"
   ]
  },
  {
   "cell_type": "code",
   "execution_count": null,
   "metadata": {},
   "outputs": [],
   "source": [
    "def calculate_sum(numbers):\n",
    "    total_sum = 0\n",
    "    for number in numbers:\n",
    "        total_sum += number\n",
    "    return total_sum\n",
    "\n",
    "print(calculate_sum(c))"
   ]
  },
  {
   "cell_type": "code",
   "execution_count": null,
   "metadata": {},
   "outputs": [],
   "source": [
    "print(np.sum(c))"
   ]
  },
  {
   "cell_type": "code",
   "execution_count": null,
   "metadata": {},
   "outputs": [],
   "source": [
    "%timeit calculate_sum(c)\n",
    "%timeit np.sum(c)"
   ]
  },
  {
   "cell_type": "markdown",
   "metadata": {},
   "source": [
    "So the explicit loop sum function in python takes about 8 ms versus 40 us for the numpy version. That is about 200 times slower for the explicit loop version.\n",
    "\n",
    "So be aware in this course to use build-in Numpy tools to manipulate and calculate with arrays.\n",
    "\n",
    "There are many python/numpy tutorials available like this one http://cs231n.github.io/python-numpy-tutorial/.\n",
    "\n",
    "<span style=\"color:red\">**Please open up a numpy manual or tutorial and only then use the exercises below to test your knowledge on numpy**</span>"
   ]
  },
  {
   "cell_type": "markdown",
   "metadata": {},
   "source": [
    "<a id=\"section-2.1\"></a>\n",
    "#### **Section 2.1: Array Calculations and Indexing**\n",
    "\n",
    "First we define some array to work with. By explicitly setting the seed the random number generator will always return the same 'random' numbers... This helps with checking your work later with the 'assert'- command"
   ]
  },
  {
   "cell_type": "code",
   "execution_count": null,
   "metadata": {},
   "outputs": [],
   "source": [
    "np.random.seed(99315)\n",
    "\n",
    "A = (10 * np.random.rand(8, 5))\n",
    "A = np.ceil(A).astype(int)\n",
    "print(\"A = \")\n",
    "print(A)\n",
    "\n",
    "B = (10 * np.random.rand(8, 5))\n",
    "B = np.ceil(B).astype(int)\n",
    "B = B + 1\n",
    "print(\"B = \")\n",
    "print(B)\n",
    "\n",
    "C = (10 * np.random.rand(128,))\n",
    "C = np.ceil(C).astype(int)\n",
    "print(\"C = \")\n",
    "print(C)"
   ]
  },
  {
   "cell_type": "markdown",
   "metadata": {},
   "source": [
    "Some more examples, see what happens:"
   ]
  },
  {
   "cell_type": "code",
   "execution_count": null,
   "metadata": {},
   "outputs": [],
   "source": [
    "# vector of dim 1\n",
    "v1 = np.array([1, 2, 3, 4])\n",
    "print('shape of 1d array v1:', v1.shape)\n",
    "v2 = v1.transpose()\n",
    "print(v2.shape)\n",
    "\n",
    "# vector of dim 2\n",
    "v3 = np.array([1, 2, 3, 4]).reshape((4, 1))\n",
    "print('shape of 1d array v3:', v3.shape)\n",
    "v4 = v3.transpose()\n",
    "print(v4.shape)"
   ]
  },
  {
   "cell_type": "code",
   "execution_count": null,
   "metadata": {},
   "outputs": [],
   "source": [
    "# Create a 10 x 10 matrix filled with 3s by using the built in function ones or zeros.\n",
    "# (Hint: Type in help ones or help zeros)\n",
    "m1 = 3 * np.ones((10, 10))\n",
    "print(m1)"
   ]
  },
  {
   "cell_type": "code",
   "execution_count": null,
   "metadata": {},
   "outputs": [],
   "source": [
    "# a 5 by 5 identiy matrix\n",
    "# (Hint: Check doc to use np.eye)\n",
    "m2 = np.eye(5)\n",
    "print(m2)"
   ]
  },
  {
   "cell_type": "code",
   "execution_count": null,
   "metadata": {},
   "outputs": [],
   "source": [
    "# just an array with numbers\n",
    "m3 = np.arange(10)\n",
    "m4 = np.arange(10).reshape(2, 5)\n",
    "print(m4)"
   ]
  },
  {
   "cell_type": "code",
   "execution_count": null,
   "metadata": {},
   "outputs": [],
   "source": [
    "# try element-wise division and matrix division\n",
    "m5 = np.array([[10, 20, 30],\n",
    "               [30, 40, 60]])\n",
    "m6 = np.array([[2, 4, 6],\n",
    "               [3, 5, 6]])\n",
    "\n",
    "print(m5 / m6) # element wise\n",
    "print(m5 * m5) # element wise"
   ]
  },
  {
   "cell_type": "code",
   "execution_count": null,
   "metadata": {},
   "outputs": [],
   "source": [
    "# Given the matrix F, observe the output\n",
    "F = np.arange(1, 10).reshape(3, 3)\n",
    "print(F)"
   ]
  },
  {
   "cell_type": "code",
   "execution_count": null,
   "metadata": {},
   "outputs": [],
   "source": [
    "# Given the matrix G, observe the output\n",
    "F = np.arange(1, 10).reshape(3, 3)\n",
    "G = 10 * F\n",
    "print(G)"
   ]
  },
  {
   "cell_type": "code",
   "execution_count": null,
   "metadata": {},
   "outputs": [],
   "source": [
    "# concatenation of several arrays\n",
    "i1 = np.concatenate([F, G]) # in x direction: axis = 0 (default)\n",
    "print(i1)"
   ]
  },
  {
   "cell_type": "code",
   "execution_count": null,
   "metadata": {},
   "outputs": [],
   "source": [
    "# concatenation of several arrays\n",
    "i2 = np.concatenate([G, F]) \n",
    "print(i2)"
   ]
  },
  {
   "cell_type": "code",
   "execution_count": null,
   "metadata": {},
   "outputs": [],
   "source": [
    "# concatenation of several arrays\n",
    "i3 = np.concatenate((i1, i2), axis = 1) # in y direction, axis = 1\n",
    "print(i3)"
   ]
  },
  {
   "cell_type": "code",
   "execution_count": null,
   "metadata": {},
   "outputs": [],
   "source": [
    "# slicing - note: Python starts counting indices at 0\n",
    "i4 = F[1:2, 1]\n",
    "print('i4:', i4)"
   ]
  },
  {
   "cell_type": "code",
   "execution_count": null,
   "metadata": {},
   "outputs": [],
   "source": [
    "# slicing - note: Python starts counting indices at 0\n",
    "i5 = F[:, 1]\n",
    "print('i5:', i5)"
   ]
  },
  {
   "cell_type": "code",
   "execution_count": null,
   "metadata": {},
   "outputs": [],
   "source": [
    "# slicing - note: Python starts counting indices at 0\n",
    "F[1, :] = G[2, :]\n",
    "F[2, 1] = 33\n",
    "print(F)"
   ]
  },
  {
   "cell_type": "code",
   "execution_count": null,
   "metadata": {},
   "outputs": [],
   "source": [
    "# slicing - note: Python starts counting indices at 0\n",
    "i6 = G[1:2]\n",
    "print('i6:', i6)"
   ]
  },
  {
   "cell_type": "code",
   "execution_count": null,
   "metadata": {},
   "outputs": [],
   "source": [
    "# slicing - note: Python starts counting indices at 0\n",
    "G[1:3, :] = G[1:3, :] + 100\n",
    "print(G)"
   ]
  },
  {
   "cell_type": "code",
   "execution_count": null,
   "metadata": {},
   "outputs": [],
   "source": [
    "# slicing - note: Python starts counting indices at 0\n",
    "i7 = G[-1]\n",
    "print('i7:', i7)"
   ]
  },
  {
   "cell_type": "code",
   "execution_count": null,
   "metadata": {},
   "outputs": [],
   "source": [
    "# define four arrays\n",
    "np.random.seed(99315)\n",
    "\n",
    "A = (10 * np.random.rand(8, 5))\n",
    "A = np.ceil(A).astype(int)\n",
    "\n",
    "B = (10 * np.random.rand(8, 5))\n",
    "B = np.ceil(B).astype(int)\n",
    "B = B + 1\n",
    "\n",
    "C = (4 * np.random.rand(8, 5))\n",
    "C = np.ceil(C).astype(int)\n",
    "\n",
    "D = (2 * np.random.rand(8, 5))\n",
    "D = np.ceil(D).astype(int)\n",
    "D = D * 100\n",
    "\n",
    "E = (10 * np.random.rand(128,))\n",
    "E = np.ceil(E).astype(int)"
   ]
  },
  {
   "cell_type": "markdown",
   "metadata": {},
   "source": [
    "<a id=\"question-1\"></a>\n",
    "#### <font color='#FF0000'>Question 1 (0 points)</font>\n",
    "\n",
    "Write a function **sum_two_arrays(x, y)** to sum two arrays **x** and **y** element-wise. The function should return the sum of the two arrays. You are not allowed to use any loops in your function."
   ]
  },
  {
   "cell_type": "code",
   "execution_count": null,
   "metadata": {},
   "outputs": [],
   "source": [
    "def sum_two_arrays(x, y):\n",
    "\n",
    "    # YOUR CODE HERE"
   ]
  },
  {
   "cell_type": "code",
   "execution_count": null,
   "metadata": {},
   "outputs": [],
   "source": [
    "# Check that functions are correct\n",
    "assert (sum_two_arrays(A, B) == np.array([[18, 16, 12,  3, 16],\n",
    "                                          [ 4, 16, 12, 17, 17],\n",
    "                                          [13, 12,  8, 11, 13],\n",
    "                                          [12, 13, 12, 13,  8],\n",
    "                                          [11, 14, 16, 13,  8],\n",
    "                                          [15, 18, 15,  7, 15],\n",
    "                                          [ 5,  8, 12,  4, 10],\n",
    "                                          [ 6, 15, 12, 13, 14]])).all()\n",
    "\n",
    "assert (sum_two_arrays(A, -A) == np.zeros_like(A)).all()\n",
    "assert (sum_two_arrays(B, -B) == np.zeros_like(B)).all()"
   ]
  },
  {
   "cell_type": "markdown",
   "metadata": {},
   "source": [
    "<a id=\"question-2\"></a>\n",
    "#### <font color='#FF0000'>Question 2 (0 points)</font>\n",
    "\n",
    "Write a function **multiply_two_arrays(x, y)** to multiply two arrays **x** and **y** element-wise. The function should return the product of the two arrays. You are not allowed to use any loops in your function."
   ]
  },
  {
   "cell_type": "code",
   "execution_count": null,
   "metadata": {},
   "outputs": [],
   "source": [
    "def multiply_two_arrays(x, y):\n",
    "\n",
    "    # YOUR CODE HERE"
   ]
  },
  {
   "cell_type": "code",
   "execution_count": null,
   "metadata": {},
   "outputs": [],
   "source": [
    "assert (multiply_two_arrays(C, D) == np.array([[200, 100, 400, 200, 400],\n",
    "                                               [200, 300, 600, 100, 200],\n",
    "                                               [400, 600, 200, 400, 400],\n",
    "                                               [300, 800, 200, 300, 200],\n",
    "                                               [300, 400, 600, 800, 100],\n",
    "                                               [400, 800, 200, 400, 300],\n",
    "                                               [400, 400, 100, 300, 600],\n",
    "                                               [400, 100, 200, 400, 400]])).all()\n",
    "\n",
    "assert (multiply_two_arrays(C, 1 / C) == np.ones_like(C)).all()\n",
    "assert (multiply_two_arrays(D, 1 / D) == np.ones_like(D)).all()"
   ]
  },
  {
   "cell_type": "markdown",
   "metadata": {},
   "source": [
    "<a id=\"question-3\"></a>\n",
    "#### <font color=\"#FF0000\">Question 3 (0 points)</font>\n",
    "\n",
    "Write a function **calculate_mean(a)** to calculate the mean of all elements in an array **a** without using the mean or average function from numpy."
   ]
  },
  {
   "cell_type": "code",
   "execution_count": null,
   "metadata": {},
   "outputs": [],
   "source": [
    "def calculate_mean(a):\n",
    "\n",
    "    # YOUR CODE HERE"
   ]
  },
  {
   "cell_type": "code",
   "execution_count": null,
   "metadata": {},
   "outputs": [],
   "source": [
    "assert calculate_mean(A) == np.mean(A)  # the mean function that you can't use\n",
    "assert calculate_mean(B) == np.mean(B)\n",
    "assert np.allclose(calculate_mean(B) / np.mean(B), 1)"
   ]
  },
  {
   "cell_type": "markdown",
   "metadata": {},
   "source": [
    "<a id=\"question-4\"></a>\n",
    "#### <font color=\"#FF0000\">Question 4 (0 points)</font>\n",
    "\n",
    "Write a function **calculate_std(a)** to calculate the standard deviation of all elements in an array **a** without using the var or std functions from numpy."
   ]
  },
  {
   "cell_type": "code",
   "execution_count": null,
   "metadata": {},
   "outputs": [],
   "source": [
    "def calculate_std(a):\n",
    "\n",
    "    # YOUR CODE HERE"
   ]
  },
  {
   "cell_type": "code",
   "execution_count": null,
   "metadata": {},
   "outputs": [],
   "source": [
    "assert np.allclose(calculate_std(A), np.std(A))\n",
    "assert np.allclose(calculate_std(B), np.std(B))"
   ]
  },
  {
   "cell_type": "markdown",
   "metadata": {},
   "source": [
    "<a id=\"question-5\"></a>\n",
    "#### <font color=\"#FF0000\">Question 5 (0 points)</font>\n",
    "\n",
    "Write a function **sum_even_indices(a)** to select the elements a[0], a[2], a[4], ... and sum all these elements."
   ]
  },
  {
   "cell_type": "code",
   "execution_count": null,
   "metadata": {},
   "outputs": [],
   "source": [
    "def sum_even_indices(a):\n",
    "\n",
    "    # YOUR CODE HERE"
   ]
  },
  {
   "cell_type": "code",
   "execution_count": null,
   "metadata": {},
   "outputs": [],
   "source": [
    "assert 98 == sum_even_indices(A)\n",
    "assert 125 == sum_even_indices(B)\n",
    "assert 57 == sum_even_indices(C)"
   ]
  },
  {
   "cell_type": "markdown",
   "metadata": {},
   "source": [
    "<a id=\"question-6\"></a>\n",
    "#### <font color=\"#FF0000\">Question 6 (0 points)</font>\n",
    "\n",
    "Write a function **select_first_32(a)** to select the first 32 elements from array **a**."
   ]
  },
  {
   "cell_type": "code",
   "execution_count": null,
   "metadata": {},
   "outputs": [],
   "source": [
    "def select_first_32(a):\n",
    "\n",
    "    # YOUR CODE HERE"
   ]
  },
  {
   "cell_type": "code",
   "execution_count": null,
   "metadata": {},
   "outputs": [],
   "source": [
    "assert (select_first_32(E) == np.array([ 4,  5,  5,  3,  2,  1,  7,  4, 10,  1,  1,  9,  2,  2,  8,  1,  7, 4,  4,  9,  8,  1, 10,  1,  4,  5,  9,  8,  9,  2, 10,  5])).all()"
   ]
  },
  {
   "cell_type": "markdown",
   "metadata": {},
   "source": [
    "<a id=\"question-7\"></a>\n",
    "#### <font color=\"#FF0000\">Question 7 (0 points)</font>\n",
    "\n",
    "Write a function **select_not_8(a)** to select all elements from array **a** that are not equal to 8. This can be done without explicit loops using the concept of logical indexing."
   ]
  },
  {
   "cell_type": "code",
   "execution_count": null,
   "metadata": {},
   "outputs": [],
   "source": [
    "def select_not_8(a):\n",
    "\n",
    "    # YOUR CODE HERE"
   ]
  },
  {
   "cell_type": "code",
   "execution_count": null,
   "metadata": {},
   "outputs": [],
   "source": [
    "correct_answer = np.array([ 4,  5,  5,  3,  2,  1,  7,  4, 10,  1,  1,  9,  2,  2,  1,  7,  4, 4,  9,  1, 10,  1,  4,  5,  9,  9,  2, 10,  5,  1,  4,  6,  1,  1, 6,  3,  4,  4,  7, 10,  9,  1, 10,  1,  4,  3,  1,  5,  3,  6, 10, 1,  9,  4,  2,  5,  4,  6,  5,  3,  4,  1,  5, 10,  4,  3, 10, 10, 4, 10,  3,  6,  2,  6,  6,  7,  3,  9,  1,  7,  3,  2, 10,  2,  3, 4,  3,  5,  6,  4,  7,  4,  1,  7,  7,  7, 10,  2,  2,  2,  6,  6, 2,  3,  1, 10, 10,  5,  6,  2,  7,  1,  5,  4,  7,  4,  1,  1])\n",
    "\n",
    "assert (correct_answer == select_not_8(E)).all()"
   ]
  },
  {
   "cell_type": "markdown",
   "metadata": {},
   "source": [
    "<a id=\"question-8\"></a>\n",
    "#### <font color=\"#FF0000\">Question 8 (0 points)</font>\n",
    "\n",
    "Write a function **not_start_with_8(a)** to select all rows from array **a** that do not start with an 8."
   ]
  },
  {
   "cell_type": "code",
   "execution_count": null,
   "metadata": {},
   "outputs": [],
   "source": [
    "def not_start_with_8(a):\n",
    "\n",
    "    # YOUR CODE HERE"
   ]
  },
  {
   "cell_type": "code",
   "execution_count": null,
   "metadata": {},
   "outputs": [],
   "source": [
    "assert (not_start_with_8(A) == np.array([[ 9, 10,  2,  1,  5],\n",
    "                                         [ 2,  8,  5,  9,  7],\n",
    "                                         [ 7,  2,  2,  3,  5],\n",
    "                                         [ 6,  9,  6, 10,  3],\n",
    "                                         [10,  7,  7,  2,  8],\n",
    "                                         [ 2,  3,  6,  2,  5],\n",
    "                                         [ 2,  6,  8,  5,  7]])).all()"
   ]
  },
  {
   "cell_type": "markdown",
   "metadata": {},
   "source": [
    "<a id=\"question-9\"></a>\n",
    "#### <font color=\"#FF0000\">Question 9 (0 points)</font>\n",
    "\n",
    "Write a function **no_8(a)** to select all rows from array **a** that do not contain any 8."
   ]
  },
  {
   "cell_type": "code",
   "execution_count": null,
   "metadata": {},
   "outputs": [],
   "source": [
    "def no_8(a):\n",
    "\n",
    "    # YOUR CODE HERE"
   ]
  },
  {
   "cell_type": "code",
   "execution_count": null,
   "metadata": {},
   "outputs": [],
   "source": [
    "assert (no_8(A) == np.array([[ 9, 10,  2,  1,  5],\n",
    "                             [ 7,  2,  2,  3,  5],\n",
    "                             [ 6,  9,  6, 10,  3],\n",
    "                             [ 2,  3,  6,  2,  5]])).all()"
   ]
  },
  {
   "cell_type": "markdown",
   "metadata": {},
   "source": [
    "<a id=\"question-10\"></a>\n",
    "#### <font color=\"#FF0000\">Question 10 (0 points)</font>\n",
    "\n",
    "Write a function **reverse_columns(a)** to reverse the order of the columns in array **a**."
   ]
  },
  {
   "cell_type": "code",
   "execution_count": null,
   "metadata": {},
   "outputs": [],
   "source": [
    "def reverse_columns(a):\n",
    "\n",
    "    # YOUR CODE HERE"
   ]
  },
  {
   "cell_type": "code",
   "execution_count": null,
   "metadata": {},
   "outputs": [],
   "source": [
    "assert (reverse_columns(B) == np.array([[11,  2, 10,  6,  9],\n",
    "                                        [10,  8,  7,  8,  2],\n",
    "                                        [ 8,  8,  6, 10,  6],\n",
    "                                        [ 7,  6,  4,  7,  4],\n",
    "                                        [ 5,  3, 10,  5,  5],\n",
    "                                        [ 7,  5,  8, 11,  5],\n",
    "                                        [ 5,  2,  6,  5,  3],\n",
    "                                        [ 7,  8,  4,  9,  4]])).all()"
   ]
  },
  {
   "cell_type": "markdown",
   "metadata": {},
   "source": [
    "Array indexing is probably one of the most difficult subjects of programming with numpy in an efficient way. Let A be a numpy ndarray (n-dimensional array) then A[obj] is an indexing operation on array A. It depends on the value and type of obj what type of indexing is used. There are really three types of indexing."
   ]
  },
  {
   "cell_type": "markdown",
   "metadata": {},
   "source": [
    "<a id=\"section-2.2\"></a>\n",
    "#### **Section 2.2: Views on Arrays**"
   ]
  },
  {
   "cell_type": "code",
   "execution_count": null,
   "metadata": {},
   "outputs": [],
   "source": [
    "AA = A.copy() # to be sure and not mess with A itself\n",
    "              # we start by explicitly making a copy\n",
    "print(AA)"
   ]
  },
  {
   "cell_type": "code",
   "execution_count": null,
   "metadata": {},
   "outputs": [],
   "source": [
    "AA2 = AA[::2, ::2]\n",
    "print(AA2)"
   ]
  },
  {
   "cell_type": "code",
   "execution_count": null,
   "metadata": {},
   "outputs": [],
   "source": [
    "AA2[:, :] = 999\n",
    "print(AA2)"
   ]
  },
  {
   "cell_type": "code",
   "execution_count": null,
   "metadata": {},
   "outputs": [],
   "source": [
    "print(AA)"
   ]
  },
  {
   "cell_type": "markdown",
   "metadata": {},
   "source": [
    "Evidently AA2 is still refering to the same data elements as AA. We say that AA2 provides a new **view on array AA**. The new view can be of different shape (as it is here). But remember that a view still points to the same data as the array on which it is view.\n",
    "\n",
    "The rules Numpy uses when it doesn't and when it does make a copy of the data are not trivial.\n",
    "\n",
    "Be sure to keep this phenomenon in the back of your mind when confronted with a nasty bug in your code."
   ]
  },
  {
   "cell_type": "markdown",
   "metadata": {},
   "source": [
    "<a id=\"section-2.3\"></a>\n",
    "#### **Section 2.3: Tricks with Arrays**"
   ]
  },
  {
   "cell_type": "markdown",
   "metadata": {},
   "source": [
    "<a id=\"question-11\"></a>\n",
    "#### <font color=\"#FF0000\">Question 11 (0 points)</font>\n",
    "\n",
    "Write a function **reshape_to_column(a)** to make an array of shape (128,) into an array of shape (128, 1). You can do that with the reshape method or with the use of the 'newaxis' index."
   ]
  },
  {
   "cell_type": "code",
   "execution_count": null,
   "metadata": {},
   "outputs": [],
   "source": [
    "def reshape_to_column(a):\n",
    "\n",
    "    # YOUR CODE HERE"
   ]
  },
  {
   "cell_type": "code",
   "execution_count": null,
   "metadata": {},
   "outputs": [],
   "source": [
    "assert reshape_to_column(E).shape == (128, 1)\n",
    "assert (reshape_to_column(E).flatten() == E).all()\n",
    "\n",
    "n = np.random.randint(50, 500)\n",
    "D = np.random.rand(n)\n",
    "\n",
    "assert reshape_to_column(D).shape == (n, 1)\n",
    "assert (reshape_to_column(D).flatten() == D).all()"
   ]
  },
  {
   "cell_type": "markdown",
   "metadata": {},
   "source": [
    "We make some new data to work on:"
   ]
  },
  {
   "cell_type": "code",
   "execution_count": null,
   "metadata": {},
   "outputs": [],
   "source": [
    "np.random.seed(38293804)\n",
    "A35 = np.random.randint(1, 10, size=(3, 5))\n",
    "print(A35)\n",
    "\n",
    "v5 = np.array([1, 2, 3, 4, 5])\n",
    "print(v5)\n",
    "\n",
    "v3 = np.array([1, 2, 3])\n",
    "print(v3)"
   ]
  },
  {
   "cell_type": "markdown",
   "metadata": {},
   "source": [
    "<a id=\"question-12\"></a>\n",
    "#### <font color=\"#FF0000\">Question 12 (0 points)</font>\n",
    "\n",
    "Write a function **subtract_row(a, r)** to subtract the (5,) array from each of the rows of **a**. Note there is no need to first duplicate the **r** array to form a (3,5) shaped array. Note that your function should work for all arrays of size (m,n) and rows of size (n)."
   ]
  },
  {
   "cell_type": "code",
   "execution_count": null,
   "metadata": {},
   "outputs": [],
   "source": [
    "def subtract_row(a, r):\n",
    "\n",
    "    # YOUR CODE HERE"
   ]
  },
  {
   "cell_type": "code",
   "execution_count": null,
   "metadata": {},
   "outputs": [],
   "source": [
    "assert (subtract_row(A35, v5) == np.array([[ 1,  7,  2,  3, -3],\n",
    "                                           [ 3,  1,  1, -2,  2],\n",
    "                                           [ 1, -1,  5, -2, -2]])).all()"
   ]
  },
  {
   "cell_type": "markdown",
   "metadata": {},
   "source": [
    "<a id=\"question-13\"></a>\n",
    "#### <font color=\"#FF0000\">Question 13 (0 points)</font>\n",
    "\n",
    "Write a function **subtract_col(a, c)** to subtract the (3,) array from each of the columns of **a**. Note that your function should work for all arrays of size (m,n) and columns of size (m)."
   ]
  },
  {
   "cell_type": "code",
   "execution_count": null,
   "metadata": {},
   "outputs": [],
   "source": [
    "def subtract_col(a, c):\n",
    "\n",
    "    # YOUR CODE HERE"
   ]
  },
  {
   "cell_type": "code",
   "execution_count": null,
   "metadata": {},
   "outputs": [],
   "source": [
    "assert (subtract_col(A35, v3) == np.array([[ 1,  8,  4,  6,  1],\n",
    "                                           [ 2,  1,  2,  0,  5],\n",
    "                                           [-1, -2,  5, -1,  0]])).all()"
   ]
  },
  {
   "cell_type": "markdown",
   "metadata": {},
   "source": [
    "<a id=\"section-2.4\"></a>\n",
    "#### **Section 2.4: Linear Algebra**\n",
    "\n",
    "Python supports many linear algebra functions like calculating norm of a vector or determinant of a matrix.\n",
    "\n",
    "In Python 3 the `@` operator for matrix multiplication was introduced. This means that `A @ B` denotes the matrix multiplication of a matrix (array) A of shape (m,n) with a matrix (array) B of shape (n,k).\n",
    "\n",
    "Python also allows arrays of shape (n,) to be used in matrix multiplications. Depending on the context it depends on whether Python interprets an array with shape (n,) as a matrix of shape (n,1) or (1,n).\n",
    "\n",
    "Below some examples are given."
   ]
  },
  {
   "cell_type": "code",
   "execution_count": null,
   "metadata": {},
   "outputs": [],
   "source": [
    "# creation of some random matrices and vectors. Note difference in size (3,) and (3,1)\n",
    "\n",
    "np.random.seed(324893485)\n",
    "A = np.random.randint(1,10,size=(3,4))\n",
    "B = np.random.randint(1,10,size=(3,3))\n",
    "x = np.random.randint(1,10,size=(4,))\n",
    "y = np.random.randint(1,10,size=(3,))\n",
    "z = np.random.randint(1, 10, size=(4,1))\n",
    "\n",
    "v = x.reshape((4, 1))\n",
    "w = y.reshape((3, 1))"
   ]
  },
  {
   "cell_type": "code",
   "execution_count": null,
   "metadata": {},
   "outputs": [],
   "source": [
    "# norm and determinant\n",
    "\n",
    "print('norm y:', np.linalg.norm(y))\n",
    "print('determinant B:', np.linalg.det(B))"
   ]
  },
  {
   "cell_type": "code",
   "execution_count": null,
   "metadata": {},
   "outputs": [],
   "source": [
    "# see difference in outcome\n",
    "\n",
    "print(A @ x)\n",
    "print(A @ v)"
   ]
  },
  {
   "cell_type": "code",
   "execution_count": null,
   "metadata": {},
   "outputs": [],
   "source": [
    "# alignment problem will occur\n",
    "\n",
    "try:\n",
    "    A @ y\n",
    "except ValueError as e:\n",
    "    print(f\"Error: {e}\")"
   ]
  },
  {
   "cell_type": "code",
   "execution_count": null,
   "metadata": {},
   "outputs": [],
   "source": [
    "# This should work\n",
    "\n",
    "print(y @ A)"
   ]
  },
  {
   "cell_type": "code",
   "execution_count": null,
   "metadata": {},
   "outputs": [],
   "source": [
    "# See difference in outcome. Understand difference\n",
    "\n",
    "# v.Transpose @ z gives dot product\n",
    "print(v.T@z)\n",
    "\n",
    "# v @ z.Transpose result in matrix\n",
    "print(v@z.T)"
   ]
  },
  {
   "cell_type": "markdown",
   "metadata": {},
   "source": [
    "So nothing for you to do here except note that an array of shape (n,) can be used as either row vector of column vector in a vector-matrix or matrix-vector multiplication respectively."
   ]
  },
  {
   "cell_type": "markdown",
   "metadata": {},
   "source": [
    "<a id=\"section-3\"></a>\n",
    "### **Section 3: Matplotlib**\n",
    "\n",
    "We can now start plotting a line. \n",
    "\n",
    "    plt.plot([1,2,3,4])\n",
    "\n",
    "The `plot` function is the core function of the library. The above function call\n",
    "plots the 4 y-values with implicit x-values of `range(4)`. Usually you would\n",
    "use the function as `plt.plot(xvalues, yvalues, label=\"some_text\")`. In this\n",
    "case you must make sure that `xvalues` and `yvalues` are the same size (as the\n",
    "first x-value will be plotted with the first y-value, and the second with the\n",
    "second, etc.). The full documentation for the `plot` function can be found here:\n",
    "[Plot Documentation](https://matplotlib.org/2.0.2/api/pyplot_api.html)\n",
    "\n",
    "And finally, you should not forget to show your plot\n",
    "\n",
    "    plt.show()\n",
    "\n",
    "This tells matplotlib that you are done adding lines, labels and other stuff to your figure. A simple example to test with can be found below"
   ]
  },
  {
   "cell_type": "code",
   "execution_count": null,
   "metadata": {},
   "outputs": [],
   "source": [
    "x_values = range(10)\n",
    "y_values = [x**2 for x in x_values]\n",
    "plt.plot(x_values, y_values)\n",
    "plt.show()"
   ]
  },
  {
   "cell_type": "markdown",
   "metadata": {},
   "source": [
    "To create 2D line plots, use Python’s built-in plot function (matplotlib). \n",
    "\n",
    "Let us now have a look at an example of plotting the value of the sine function from 0 to 2π. After typing in the following statements, you should see a nice sine function on the screen. Try it also with different x values, such as x^2 , -x and x + π, then observe the changes in the plot."
   ]
  },
  {
   "cell_type": "code",
   "execution_count": null,
   "metadata": {},
   "outputs": [],
   "source": [
    "# Get x values of the sine wave\n",
    "x = np.arange(0, 2*np.pi, 0.1)\n",
    "\n",
    "# Amplitude of the sine wave is sine of a variable like time\n",
    "amplitude = np.sin(x)\n",
    "\n",
    "# Plot a sine wave using time and amplitude obtained for the sine wave\n",
    "plt.plot(x, amplitude)\n",
    "\n",
    "# Give a title, and labels for the sine wave plot\n",
    "plt.title('Sine wave')\n",
    "plt.xlabel('Time')\n",
    "plt.ylabel('Amplitude = sin(time)')\n",
    "\n",
    "# Give a grid and thick line on x\n",
    "plt.grid(True, which='both')\n",
    "plt.axhline(y=0, color='k')\n",
    "\n",
    "# Display the sine wave\n",
    "plt.show()"
   ]
  },
  {
   "cell_type": "markdown",
   "metadata": {},
   "source": [
    "To create 3D line plots, use Python’s built-in plot function (matplotlib).\n",
    "\n",
    "We will plot some 3D function and a 2D gaussian function."
   ]
  },
  {
   "cell_type": "code",
   "execution_count": null,
   "metadata": {},
   "outputs": [],
   "source": [
    "from mpl_toolkits.mplot3d import Axes3D\n",
    "\n",
    "# create meshgrid for x and y axis\n",
    "x = np.linspace(-3, 3, 150)\n",
    "y = np.linspace(-3, 3, 150)\n",
    "X, Y = np.meshgrid(x, y)\n",
    "\n",
    "# some 3D function - (you may recognise the Matlab signature) \n",
    "F = 3 * (1-X)**2 * np.exp(-(X**2) - (Y+1)**2) - 10 * (X/5 - X**3 - Y**5) * np.exp(-X**2 - Y**2) - 1/3 * np.exp(-(X+1)**2 - Y**2) \n",
    "\n",
    "# a 2D gaussian function\n",
    "sigma = 2\n",
    "G = np.exp(-(X**2+Y**2)/(2*sigma**2)) / (sigma * np.sqrt(2*np.pi)) \n",
    "\n",
    "fig = plt.figure(99, figsize=(10, 5))\n",
    "ax1 = fig.add_subplot(121, projection='3d')\n",
    "ax1.set_title('3D surface plot of function F')\n",
    "ax1.plot_surface(X, Y, F, cmap='copper')\n",
    "ax2 = fig.add_subplot(122, projection='3d')\n",
    "ax2.set_title('3D surface plot of function G')\n",
    "ax2.plot_surface(X, Y, G, cmap='magma')\n",
    "plt.show()"
   ]
  },
  {
   "cell_type": "markdown",
   "metadata": {},
   "source": [
    "<a id=\"question-14\"></a>\n",
    "#### <font color=\"#FF0000\">Question 14 (0 points)</font>\n",
    "\n",
    "Plot the function Y = 3x^4 - 2x^3 + x^2 - 5x + 1 for x ∈ [−5, 5]"
   ]
  },
  {
   "cell_type": "code",
   "execution_count": null,
   "metadata": {},
   "outputs": [],
   "source": [
    "# YOUR CODE HERE"
   ]
  },
  {
   "cell_type": "markdown",
   "metadata": {},
   "source": [
    "<a id=\"question-15\"></a>\n",
    "#### <font color=\"#FF0000\">Question 15 (0 points)</font>\n",
    "\n",
    "Given the function Z = (sin(Y^2 - X) − cos(Y + X^2)), where X and Y lies between [0, π], visualize it by using mesh function."
   ]
  },
  {
   "cell_type": "code",
   "execution_count": null,
   "metadata": {},
   "outputs": [],
   "source": [
    "# YOUR CODE HERE"
   ]
  },
  {
   "cell_type": "markdown",
   "metadata": {},
   "source": [
    "<a id=\"section-4\"></a>\n",
    "### **Section 4: OpenCV**\n",
    "\n",
    "Python supports several ways for image processing. The most commonly known are the matplotlib, the open_cv and the PIL libraries. \n",
    "\n",
    "The following is shown (based on open_cv):\n",
    "- reading and writing image\n",
    "- image is 3D array\n",
    "- playing around with BRG/RGB, Graying, Histogram equalisation\n",
    "\n",
    "Very short intro in PIL\n",
    "- reading, conversion to array\n",
    "- students are asked to do displaying, saving, graying, .... in Pillow "
   ]
  },
  {
   "cell_type": "markdown",
   "metadata": {},
   "source": [
    "<a id=\"section-4.1\"></a>\n",
    "#### **Section 4.1: Image Processing using Matplotlib**\n",
    "\n",
    "As you can see below, matplotlib does support basic image reading, plotting and saving.\n",
    "\n",
    "It is key to see that images are respresented as arrays (2D for gray, 3D for colour). "
   ]
  },
  {
   "cell_type": "code",
   "execution_count": null,
   "metadata": {},
   "outputs": [],
   "source": [
    "# Read image - ensure the file is in the same directory as the notebook\n",
    "image = plt.imread('./images/tulip_fields.png') \n",
    "\n",
    "# Display array shape and element type\n",
    "print(f\"Image shape: {image.shape}\")   # shape of image array\n",
    "print(f\"Image dtype: {image.dtype}\")   # float32\n",
    "\n",
    "# Display the image\n",
    "plt.figure()\n",
    "plt.imshow(image)\n",
    "plt.title('Original Image')\n",
    "plt.axis('off')  # Hide axes for better display\n",
    "\n",
    "# Show each separate RGB channel in subplots\n",
    "fig, axes = plt.subplots(1, 3, figsize=(15, 5))\n",
    "\n",
    "# Red channel\n",
    "axes[0].imshow(image[:, :, 0])\n",
    "axes[0].set_title('Red Channel')\n",
    "axes[0].axis('off')\n",
    "\n",
    "# Green channel\n",
    "axes[1].imshow(image[:, :, 1])\n",
    "axes[1].set_title('Green Channel')\n",
    "axes[1].axis('off')\n",
    "\n",
    "# Blue channel\n",
    "axes[2].imshow(image[:, :, 2])\n",
    "axes[2].set_title('Blue Channel')\n",
    "axes[2].axis('off')\n",
    "\n",
    "# Save the plot\n",
    "fig.savefig('./images/separate_rgb_channels.jpg', bbox_inches='tight', dpi=150)\n",
    "plt.show()"
   ]
  },
  {
   "cell_type": "markdown",
   "metadata": {},
   "source": [
    "<a id=\"section-4.2\"></a>\n",
    "#### **Section 4.2: Image Processing using OpenCV**\n",
    "\n",
    "OpenCV is specialised python package with quite a few image processing features. \n",
    "\n",
    "Note that, different than Matplotlib (and later PIL), openCV uses BGR instead of RGB. \n",
    "\n",
    "Another specificity is that for plotting openCV opens a new window. \n",
    "YOU HAVE TO MANUALLY CLOSE THIS WINDOW (e.g. by pressing 'space')."
   ]
  },
  {
   "cell_type": "code",
   "execution_count": null,
   "metadata": {},
   "outputs": [],
   "source": [
    "# Read image - ensure the file is in the correct directory\n",
    "image = cv2.imread('./images/frans_bauer.png')\n",
    "# cv2.imshow('image with opencv', image)  \n",
    "# cv2.waitKey(0)         \n",
    "# cv2.destroyAllWindows()\n",
    "\n",
    "# Print array shape and element type\n",
    "print(f'Shape of original image: {image.shape}')  # array shape\n",
    "print(f'Image dtype: {image.dtype}')              # uint8\n",
    "\n",
    "# Create a figure with subplots\n",
    "fig, axs = plt.subplots(2, 2, figsize=(12, 18))\n",
    "\n",
    "# Display the original image using Matplotlib (colors will be mixed up)\n",
    "axs[0, 0].imshow(image)\n",
    "axs[0, 0].set_title('Original Image with Matplotlib')\n",
    "axs[0, 0].axis('off')\n",
    "\n",
    "# Convert the image from BGR to RGB for correct display\n",
    "image_rgb = cv2.cvtColor(image, cv2.COLOR_BGR2RGB)\n",
    "axs[0, 1].imshow(image_rgb)\n",
    "axs[0, 1].set_title('Image after RGB Conversion')\n",
    "axs[0, 1].axis('off')\n",
    "\n",
    "# Alternatively, use Numpy to reorder the channels\n",
    "image_rgb_np = image[:, :, [2, 1, 0]]\n",
    "axs[1, 0].imshow(image_rgb_np)\n",
    "axs[1, 0].set_title('Image after RGB Conversion with Numpy')\n",
    "axs[1, 0].axis('off')\n",
    "\n",
    "# Convert the image to grayscale\n",
    "image_gray = cv2.cvtColor(image, cv2.COLOR_BGR2GRAY)\n",
    "print(f'Shape after graying: {image_gray.shape}')\n",
    "axs[1, 1].imshow(image_gray, cmap='gray')\n",
    "axs[1, 1].set_title('Grayscale Image')\n",
    "axs[1, 1].axis('off')\n",
    "\n",
    "# Resize the image with OpenCV\n",
    "image_small = cv2.resize(image, (0, 0), fx=0.5, fy=0.5)\n",
    "print(f'Original shape: {image.shape}')\n",
    "print(f'Shape after resizing: {image_small.shape}')\n",
    "\n",
    "# Adjust layout\n",
    "plt.tight_layout()\n",
    "plt.show()\n",
    "\n",
    "# Apply histogram equalization to the grayscale image\n",
    "image_equalized = cv2.equalizeHist(image_gray)\n",
    "\n",
    "# Combine original and equalized images side by side and save\n",
    "result = np.hstack((image_gray, image_equalized))\n",
    "plt.figure(figsize=(12, 6))\n",
    "plt.title('Histogram Equalization Result')\n",
    "plt.imshow(result, cmap='gray')\n",
    "plt.axis('off')\n",
    "plt.show()\n",
    "\n",
    "# Save the combined result\n",
    "cv2.imwrite('./images/histogram_equalization_result.png', result)"
   ]
  },
  {
   "cell_type": "markdown",
   "metadata": {},
   "source": [
    "<a id=\"section-4.3\"></a>\n",
    "#### **Section 4.3: Image Processing using Python Imaging Library PIL (Pillow)**\n",
    "\n",
    "Pillow is a modern imaging processing library. It is not just an alternative for Matplotlib or OpenCV. PIL is the standard for image pre-processing in Pytorch. Pytorch will be used the second half of the course for creating neural networks. It is not yet part of this notebook. \n",
    "\n",
    "One of the differences is that the image is stored as a PIL object, with several pieces of information attached. PIL uses RGB format (as Matplotlib)"
   ]
  },
  {
   "cell_type": "code",
   "execution_count": null,
   "metadata": {},
   "outputs": [],
   "source": [
    "# Load and display the 'tulip_fields.png' image\n",
    "img_tulip_fields = Image.open('./images/tulip_fields.png')\n",
    "display(img_tulip_fields)\n",
    "\n",
    "# Print format, mode, size of the 'tulip_fields.png' image\n",
    "print('Tulip Fields - Format:', img_tulip_fields.format)\n",
    "print('Tulip Fields - Mode:', img_tulip_fields.mode)\n",
    "print('Tulip Fields - Size:', img_tulip_fields.size)\n",
    "\n",
    "# Convert 'tulip_fields.png' to a numpy array and print its shape\n",
    "img_tulip_fields_array = np.array(img_tulip_fields)\n",
    "print('Tulip Fields - Shape of PIL image:', img_tulip_fields_array.shape)\n",
    "\n",
    "# Save 'tulip_fields.png' in another format (e.g., jpeg)\n",
    "img_tulip_fields.save('./images/tulip_fields.jpg', 'jpeg')\n",
    "\n",
    "# Convert 'tulip_fields.png' to grayscale and display\n",
    "img_tulip_fields_gray = img_tulip_fields.convert('L')\n",
    "display(img_tulip_fields_gray)\n",
    "\n",
    "# Rotate 'tulip_fields.png' by 45 degrees and display\n",
    "img_tulip_fields_rotated = img_tulip_fields.rotate(45)\n",
    "display(img_tulip_fields_rotated)\n",
    "\n",
    "# Load and display the 'frans_bauer.png' image using OpenCV\n",
    "image_frans_bauer = cv2.imread('./images/frans_bauer.png')\n",
    "image_frans_bauer_rgb = cv2.cvtColor(image_frans_bauer, cv2.COLOR_BGR2RGB)\n",
    "\n",
    "# Convert OpenCV image array to PIL image and display\n",
    "pil_img_frans_bauer = Image.fromarray(image_frans_bauer_rgb)\n",
    "display(pil_img_frans_bauer)\n",
    "\n",
    "# Print format, mode, size of the 'frans_bauer.png' image\n",
    "print('Frans Bauer - Format:', pil_img_frans_bauer.format)  # Note: OpenCV does not retain format\n",
    "print('Frans Bauer - Mode:', pil_img_frans_bauer.mode)\n",
    "print('Frans Bauer - Size:', pil_img_frans_bauer.size)\n",
    "\n",
    "# Convert 'frans_bauer.png' to a numpy array and print its shape\n",
    "img_frans_bauer_array = np.array(pil_img_frans_bauer)\n",
    "print('Frans Bauer - Shape of PIL image:', img_frans_bauer_array.shape)\n",
    "\n",
    "# Convert 'frans_bauer.png' to grayscale and display\n",
    "img_frans_bauer_gray = pil_img_frans_bauer.convert('L')\n",
    "display(img_frans_bauer_gray)\n",
    "\n",
    "# Rotate 'frans_bauer.png' by 45 degrees and display\n",
    "img_frans_bauer_rotated = pil_img_frans_bauer.rotate(45)\n",
    "display(img_frans_bauer_rotated)"
   ]
  },
  {
   "cell_type": "markdown",
   "metadata": {},
   "source": [
    "<a id=\"question-16\"></a>\n",
    "#### <font color=\"#FF0000\">Question 16 (0 points)</font>\n",
    "\n",
    "Write a function **divide_and_randomly_rearrange_image(img, n=4)** that takes an image as its input, divides the image into 4 pieces, and creates a new image by changing the order of the pieces of the original image. The function should display both the original and the newly created image separately. (Hint: use subplot)."
   ]
  },
  {
   "cell_type": "code",
   "execution_count": null,
   "metadata": {},
   "outputs": [],
   "source": [
    "def divide_and_randomly_rearrange_image(img, n=4):\n",
    "\n",
    "    # YOUR CODE HERE"
   ]
  },
  {
   "cell_type": "code",
   "execution_count": null,
   "metadata": {},
   "outputs": [],
   "source": [
    "# To divide into 4 pieces (default) with random shuffling:\n",
    "divide_and_randomly_rearrange_image('./images/tulip_fields.png')\n",
    "\n",
    "# To divide into 9 pieces with random shuffling:\n",
    "divide_and_randomly_rearrange_image('./images/tulip_fields.png', n=24)"
   ]
  },
  {
   "cell_type": "markdown",
   "metadata": {},
   "source": [
    "<a id=\"question-17\"></a>\n",
    "#### <font color=\"#FF0000\">Question 17 (0 points)</font>\n",
    "\n",
    "Write a function **reorder_RGB_to_BGR(img_path)** that takes an RGB image as its input. Divide the image into red, green, and blue components as matrices R, G, and B. Create a new image by reordering the colors as BGR (Hint: use cat, do not use open_cv RGB conversion). Display the original image and the new one in a 2-by-1 layout (Hint: use subplot)."
   ]
  },
  {
   "cell_type": "code",
   "execution_count": null,
   "metadata": {},
   "outputs": [],
   "source": [
    "def reorder_RGB_to_BGR(img_path):\n",
    "\n",
    "    # YOUR CODE HERE"
   ]
  },
  {
   "cell_type": "code",
   "execution_count": null,
   "metadata": {},
   "outputs": [],
   "source": [
    "reorder_RGB_to_BGR('./images/tulip_fields.png')"
   ]
  },
  {
   "cell_type": "markdown",
   "metadata": {},
   "source": [
    "<a id=\"question-18\"></a>\n",
    "#### <font color=\"#FF0000\">Question 18 (0 points)</font>\n",
    "\n",
    "Write a function **average_window_3x3_image(img_path)** that takes an image as input, converts it to grayscale, and resizes it to a 100 x 100 matrix of pixel values. Move a window of size 3 x 3 over the matrix and compute the average of the 9 elements within this window. Store the computed averaging results in matrix **B** (Matrix **B** is expected to be of size 98 x 98, since you will exclude the first and the last rows and columns of the original matrix). Display both the resized image (100 x 100) and the averaged image in a 2-by-1 layout (Hint: use a subplot)."
   ]
  },
  {
   "cell_type": "code",
   "execution_count": null,
   "metadata": {},
   "outputs": [],
   "source": [
    "def average_window_3x3_image(img_path):\n",
    "\n",
    "    # YOUR CODE HERE"
   ]
  },
  {
   "cell_type": "code",
   "execution_count": null,
   "metadata": {},
   "outputs": [],
   "source": [
    "average_window_3x3_image('./images/tulip_fields.png')"
   ]
  },
  {
   "cell_type": "markdown",
   "metadata": {},
   "source": [
    "### - End of Notebook -"
   ]
  }
 ],
 "metadata": {
  "kernelspec": {
   "display_name": "cv1",
   "language": "python",
   "name": "python3"
  },
  "language_info": {
   "codemirror_mode": {
    "name": "ipython",
    "version": 3
   },
   "file_extension": ".py",
   "mimetype": "text/x-python",
   "name": "python",
   "nbconvert_exporter": "python",
   "pygments_lexer": "ipython3",
   "version": "3.12.4"
  }
 },
 "nbformat": 4,
 "nbformat_minor": 2
}
